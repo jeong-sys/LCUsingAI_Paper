{
 "cells": [
  {
   "cell_type": "code",
   "execution_count": 11,
   "metadata": {},
   "outputs": [],
   "source": [
    "import os\n",
    "import cv2\n",
    "import pydicom\n",
    "import numpy as np\n",
    "import pandas as pd\n",
    "from PIL import Image\n",
    "from sklearn.ensemble import RandomForestRegressor\n",
    "from sklearn.model_selection import train_test_split\n",
    "from sklearn.metrics import mean_squared_error"
   ]
  },
  {
   "cell_type": "code",
   "execution_count": 12,
   "metadata": {},
   "outputs": [],
   "source": [
    "# # dcm 이미지 png로 저장\n",
    "# dcm_dir = \"./dcm\"\n",
    "# img_dir = \"./png\"\n",
    "# dcm_file_list = os.listdir(dcm_dir)\n",
    " \n",
    "# for i, file in enumerate(dcm_file_list):\n",
    "#     dcm_path = dcm_dir+\"/\"+file\n",
    "#     ds = pydicom.dcmread(dcm_path)\n",
    "#     pil_img = Image.fromarray(ds.pixel_array)\n",
    "    \n",
    "#     img_path = img_dir+\"/img_\"+str(i)+\".png\"\n",
    "#     pil_img.save(img_path)\n",
    "    \n",
    "#     src = cv2.imread(img_path, cv2.IMREAD_GRAYSCALE)\n",
    "#     dst = cv2.resize(src, (512,512))\n",
    "    \n",
    "#     cv2.imwrite(img_path, dst)"
   ]
  },
  {
   "cell_type": "code",
   "execution_count": 13,
   "metadata": {},
   "outputs": [],
   "source": [
    "# #dcm 이미지 png로 저장\n",
    "# # test 이미지\n",
    "# dcm_test_dir = \"./dcm_test\"\n",
    "# img_test_dir = \"./png_test\"\n",
    "# dcm_test_file_list = os.listdir(dcm_test_dir)\n",
    " \n",
    "# for i, file in enumerate(dcm_test_file_list):\n",
    "#     dcm_test_path = dcm_test_dir+\"/\"+file\n",
    "#     ds = pydicom.dcmread(dcm_test_path)\n",
    "#     pil_img = Image.fromarray(ds.pixel_array)\n",
    "    \n",
    "#     img_test_path = img_test_dir+\"/img_\"+str(i)+\".png\"\n",
    "#     pil_img.save(img_test_path)\n",
    "    \n",
    "#     src = cv2.imread(img_test_path, cv2.IMREAD_GRAYSCALE)\n",
    "#     dst = cv2.resize(src, (512,512))\n",
    "    \n",
    "#     cv2.imwrite(img_test_path, dst)"
   ]
  },
  {
   "cell_type": "code",
   "execution_count": 14,
   "metadata": {},
   "outputs": [],
   "source": [
    "# input 이미지의 평균 밝기와 대비를 계산함\n",
    "def compute_brightness_contrast(image):\n",
    "    brightness = np.mean(image)\n",
    "    contrast = np.std(image)\n",
    "    return brightness, contrast"
   ]
  },
  {
   "cell_type": "code",
   "execution_count": 15,
   "metadata": {},
   "outputs": [],
   "source": [
    "# 이미지가 환하게 나와서 대비를 향상시킴\n",
    "def increase_contrast(img):\n",
    "    min_val = np.min(img)\n",
    "    max_val = np.max(img)\n",
    "    stretched = (img - min_val) / (max_val - min_val) * 255\n",
    "    return stretched.astype(np.uint8)"
   ]
  },
  {
   "cell_type": "code",
   "execution_count": 16,
   "metadata": {},
   "outputs": [],
   "source": [
    "# 1차원 배열의 인덱스를 2차원 좌표로 변환함\n",
    "def index_to_coordinates(index, shape):\n",
    "    return divmod(index, shape[1])"
   ]
  },
  {
   "cell_type": "code",
   "execution_count": 17,
   "metadata": {},
   "outputs": [],
   "source": [
    "# Otsu 이진화를 이용하여 이미지를 이진화 시킴\n",
    "# 원 중심 찾기 위한 과정\n",
    "def otsu_binarization(image):\n",
    "    _, binary_image = cv2.threshold(image, 0, 255, cv2.THRESH_BINARY + cv2.THRESH_OTSU)\n",
    "    return binary_image"
   ]
  },
  {
   "cell_type": "code",
   "execution_count": 18,
   "metadata": {},
   "outputs": [],
   "source": [
    "# 이진 이미지에서 중심 좌표 찾음\n",
    "def find_circle_center(binary_image):\n",
    "    contours, _ = cv2.findContours(binary_image, cv2.RETR_EXTERNAL, cv2.CHAIN_APPROX_SIMPLE)\n",
    "    max_contour = max(contours, key=cv2.contourArea)\n",
    "    M = cv2.moments(max_contour)\n",
    "    if M[\"m00\"] != 0:\n",
    "        cX = int(M[\"m10\"] / M[\"m00\"])\n",
    "        cY = int(M[\"m01\"] / M[\"m00\"])\n",
    "        center_index = binary_image.shape[1] * cY + cX\n",
    "    else:\n",
    "        center_index = None\n",
    "    return center_index"
   ]
  },
  {
   "cell_type": "code",
   "execution_count": 19,
   "metadata": {},
   "outputs": [],
   "source": [
    "# 주어진 목표 밝기와 대비에 맞게 이미지 밝기와 대비 조정\n",
    "def adjust_brightness_contrast(image, target_brightness, target_contrast):\n",
    "    adjusted = np.clip((image - np.mean(image)) * (target_contrast / np.std(image)) + target_brightness, 0, 255).astype(np.uint8)\n",
    "    return adjusted"
   ]
  },
  {
   "cell_type": "code",
   "execution_count": 20,
   "metadata": {},
   "outputs": [],
   "source": [
    "# 예측된 밝기와 대비로 이미지 조정\n",
    "def apply_predicted_adjustments(image, brightness_model, contrast_model):\n",
    "    predicted_brightness = brightness_model.predict(image.ravel().reshape(1, -1))[0]\n",
    "    predicted_contrast = contrast_model.predict(image.ravel().reshape(1, -1))[0]\n",
    "    adjusted_image = adjust_brightness_contrast(image, predicted_brightness, predicted_contrast) # 주어진 목표 밝기와 대비에 맞게 이미지 밝기와 대비 조정\n",
    "    return adjusted_image"
   ]
  },
  {
   "cell_type": "code",
   "execution_count": 21,
   "metadata": {},
   "outputs": [],
   "source": [
    "# 이미지 처리후 중심 좌표와 픽셀 값을 DataFrame으로 반환\n",
    "def process_images(img_dir):\n",
    "    rows = []\n",
    "    \n",
    "    for filename in os.listdir(img_dir):\n",
    "        image_path = os.path.join(img_dir, filename)\n",
    "        image = cv2.imread(image_path, cv2.IMREAD_GRAYSCALE)\n",
    "        binary_image = otsu_binarization(image) # Otsu 이진화를 이용하여 이미지를 이진화 시킴\n",
    "        center_index = find_circle_center(binary_image) # 이진 이미지에서 중심 좌표 찾음\n",
    "        center_coordinates = index_to_coordinates(center_index, (512, 512)) # 1차원 배열의 인덱스를 2차원 좌표로 변환함\n",
    "        one_dimensional_image = binary_image.flatten()\n",
    "        row = [filename, center_index, center_coordinates[0], center_coordinates[1]] + one_dimensional_image.tolist()\n",
    "        rows.append(row)\n",
    "\n",
    "    pixel_array = len(one_dimensional_image)\n",
    "    columns = ['Filename', 'Center_Index', 'Center_X', 'Center_Y'] + [f'Pixel_{i}' for i in range(pixel_array)]\n",
    "    df = pd.DataFrame(rows, columns=columns)\n",
    "    return df"
   ]
  },
  {
   "cell_type": "code",
   "execution_count": 22,
   "metadata": {},
   "outputs": [],
   "source": [
    "# 모델을 사용하여 이미지에서 원의 중심 예측\n",
    "def predict_center(image, model):\n",
    "    binary_image = otsu_binarization(image) # Otsu 이진화를 이용하여 이미지를 이진화 시킴\n",
    "    one_dimensional_image = binary_image.flatten().reshape(1, -1)\n",
    "    predicted_center = model.predict(one_dimensional_image)\n",
    "    return int(predicted_center[0])"
   ]
  },
  {
   "cell_type": "code",
   "execution_count": 23,
   "metadata": {},
   "outputs": [],
   "source": [
    "# 안전한 좌표 범위 확인 함수\n",
    "def check_boundaries(coordinate, axis_length, offset):\n",
    "    start = max(0, coordinate - offset)\n",
    "    end = min(axis_length, coordinate + offset)\n",
    "    return start, end"
   ]
  },
  {
   "cell_type": "code",
   "execution_count": 24,
   "metadata": {},
   "outputs": [],
   "source": [
    "# 예측된 중심을 기준으로 이미지 잘라서 저장\n",
    "def save_cropped_image(image, predicted_index, save_dir, filename):\n",
    "    predicted_coordinates = index_to_coordinates(predicted_index, image.shape) # 1차원 배열의 인덱스를 2차원 좌표로 변환함\n",
    "    \n",
    "    y_start, y_end = check_boundaries(predicted_coordinates[0], image.shape[0], 160) # 안전한 좌표 범위 확인 함수\n",
    "    x_start, x_end = check_boundaries(predicted_coordinates[1], image.shape[1], 160) # 안전한 좌표 범위 확인 함수\n",
    " \n",
    "    cropped_img = image[y_start:y_end, x_start:x_end]\n",
    "    # cropped_img = image[predicted_coordinates[0]-160:predicted_coordinates[0]+160, predicted_coordinates[1]-160:predicted_coordinates[1]+160]\n",
    "    save_path = os.path.join(save_dir, filename)\n",
    "    cv2.imwrite(save_path, cropped_img)"
   ]
  },
  {
   "cell_type": "code",
   "execution_count": 82,
   "metadata": {},
   "outputs": [],
   "source": [
    "# 실행 함수 : 밝기, 대비, 원 중심을 예측하기 위한 모델 학습 및 이미지 처리\n",
    "def main():\n",
    "  \n",
    "    # 이미지 밝기와 대초 예측 모델 먼저 학습\n",
    "    data = []\n",
    "    targets_brightness = []\n",
    "    targets_contrast = []\n",
    "\n",
    "    for filename in os.listdir(\"./png\"):\n",
    "        image_path = os.path.join(\"./png\", filename)\n",
    "        image = cv2.imread(image_path, cv2.IMREAD_GRAYSCALE)\n",
    "        contrast_increased_image = increase_contrast(image) # 이미지 대비 향상\n",
    "        brightness, contrast = compute_brightness_contrast(contrast_increased_image) # 이미지 평균 밝기, 대비 계산\n",
    "        data.append(contrast_increased_image.ravel()) \n",
    "        targets_brightness.append(brightness)\n",
    "        targets_contrast.append(contrast)\n",
    "\n",
    "    data = np.array(data)\n",
    "    targets_brightness = np.array(targets_brightness)\n",
    "    targets_contrast = np.array(targets_contrast)\n",
    "\n",
    "    # Split data\n",
    "    X_train, X_test, y_train_b, y_test_b, y_train_c, y_test_c = train_test_split(data, targets_brightness, targets_contrast, test_size=0.2, random_state=42)\n",
    "\n",
    "    # Train brightness model\n",
    "    regressor_brightness = RandomForestRegressor(n_estimators=30, random_state=42)\n",
    "    regressor_brightness.fit(X_train, y_train_b)\n",
    "    regressor_contrast = RandomForestRegressor(n_estimators=30, random_state=42)\n",
    "    regressor_contrast.fit(X_train, y_train_c)\n",
    "\n",
    "    \n",
    "    # png 폴더의 이미지 밝기\n",
    "    should_process_images = []\n",
    "    \n",
    "    for filename in os.listdir(\"./png_test\"):\n",
    "        image_path = os.path.join(\"./png_test\", filename)\n",
    "        image = cv2.imread(image_path, cv2.IMREAD_GRAYSCALE)\n",
    "\n",
    "        original_brightness, original_contrast = compute_brightness_contrast(image)\n",
    "        predicted_brightness = regressor_brightness.predict(image.ravel().reshape(1, -1))[0]\n",
    "        predicted_contrast = regressor_contrast.predict(image.ravel().reshape(1, -1))[0]\n",
    "        \n",
    "        print(f\"Image: {filename}\")\n",
    "        print(f\"Original Brightness: {original_brightness}\")\n",
    "        print(f\"Predicted Brightness: {predicted_brightness}\")\n",
    "        print(\"-----\")\n",
    "        \n",
    "        print(f\"Image: {filename}\")\n",
    "        print(f\"Original Contrast: {original_contrast}\")\n",
    "        print(f\"Predicted Contrast: {predicted_contrast}\")\n",
    "        print(\"-----\")\n",
    "\n",
    "        if original_brightness < predicted_brightness or original_contrast < predicted_contrast:\n",
    "            should_process_images.append(filename)\n",
    "\n",
    "        # Train contrast model\n",
    "        regressor_contrast = RandomForestRegressor(n_estimators=30, random_state=42)\n",
    "        regressor_contrast.fit(X_train, y_train_c)\n",
    "\n",
    "        # Process images for circle center prediction\n",
    "        result_df = process_images(\"./png\") # 이미지 처리후 중심 좌표와 픽셀 값을 DataFrame으로 반환\n",
    "\n",
    "        # Split data for circle center prediction\n",
    "        X = result_df.drop(columns=['Filename', 'Center_Index', 'Center_X', 'Center_Y'])\n",
    "        y = result_df['Center_Index']\n",
    "        X_train, X_test, y_train, y_test = train_test_split(X, y, test_size=0.2, random_state=42)\n",
    "\n",
    "        # Train circle center prediction model\n",
    "        regressor = RandomForestRegressor(n_estimators=30, random_state=42)\n",
    "        regressor.fit(X_train, y_train)\n",
    "        \n",
    "        # # Brightness Model 성능 평가\n",
    "        # y_pred_b = regressor_brightness.predict(X_test)\n",
    "        # mse_brightness = mean_squared_error(y_test_b, y_pred_b)\n",
    "        # print(f\"Brightness Model MSE: {mse_brightness}\")\n",
    "\n",
    "        # # Contrast Model 성능 평가\n",
    "        # y_pred_c = regressor_contrast.predict(X_test)\n",
    "        # mse_contrast = mean_squared_error(y_test_c, y_pred_c)\n",
    "        # print(f\"Contrast Model MSE: {mse_contrast}\")\n",
    "\n",
    "        # # Circle Center Prediction Model 성능 평가\n",
    "        # y_pred_center = regressor.predict(X_test)\n",
    "        # mse_center = mean_squared_error(y_test, y_pred_center)\n",
    "        # print(f\"Circle Center Prediction Model MSE: {mse_center}\")\n",
    "\n",
    "\n",
    "        # Save final processed images\n",
    "        save_dir = \"./processed_images\"\n",
    "        if not os.path.exists(save_dir):\n",
    "            os.makedirs(save_dir)\n",
    "        for filename in should_process_images:\n",
    "            image_path = os.path.join(\"./png_test\", filename)\n",
    "            image = cv2.imread(image_path, cv2.IMREAD_GRAYSCALE)\n",
    "            adjusted_image = apply_predicted_adjustments(image, regressor_brightness, regressor_contrast) # 예측된 밝기와 대비 값으로 이미지 조정\n",
    "            predicted_center_index = predict_center(adjusted_image, regressor) # 모델을 사용하여 원 중심 예측\n",
    "            save_cropped_image(adjusted_image, predicted_center_index, save_dir, filename) # 예측된 중심을 기준으로 이미지 잘라서 저장\n"
   ]
  },
  {
   "cell_type": "code",
   "execution_count": 83,
   "metadata": {},
   "outputs": [
    {
     "name": "stdout",
     "output_type": "stream",
     "text": [
      "Image: img_1.png\n",
      "Original Brightness: 16.211898803710938\n",
      "Predicted Brightness: 62.01449089050293\n",
      "-----\n",
      "Image: img_1.png\n",
      "Original Contrast: 5.351346313654683\n",
      "Predicted Contrast: 68.38893233501364\n",
      "-----\n"
     ]
    },
    {
     "name": "stderr",
     "output_type": "stream",
     "text": [
      "/Users/heoyujeong/Desktop/summer_paper/venv/lib/python3.9/site-packages/sklearn/base.py:464: UserWarning: X does not have valid feature names, but RandomForestRegressor was fitted with feature names\n",
      "  warnings.warn(\n"
     ]
    },
    {
     "name": "stdout",
     "output_type": "stream",
     "text": [
      "Image: img_0.png\n",
      "Original Brightness: 16.579429626464844\n",
      "Predicted Brightness: 62.01449089050293\n",
      "-----\n",
      "Image: img_0.png\n",
      "Original Contrast: 5.784777783819369\n",
      "Predicted Contrast: 68.38893233501364\n",
      "-----\n"
     ]
    },
    {
     "name": "stderr",
     "output_type": "stream",
     "text": [
      "/Users/heoyujeong/Desktop/summer_paper/venv/lib/python3.9/site-packages/sklearn/base.py:464: UserWarning: X does not have valid feature names, but RandomForestRegressor was fitted with feature names\n",
      "  warnings.warn(\n",
      "/Users/heoyujeong/Desktop/summer_paper/venv/lib/python3.9/site-packages/sklearn/base.py:464: UserWarning: X does not have valid feature names, but RandomForestRegressor was fitted with feature names\n",
      "  warnings.warn(\n",
      "/Users/heoyujeong/Desktop/summer_paper/venv/lib/python3.9/site-packages/sklearn/base.py:464: UserWarning: X does not have valid feature names, but RandomForestRegressor was fitted with feature names\n",
      "  warnings.warn(\n",
      "/Users/heoyujeong/Desktop/summer_paper/venv/lib/python3.9/site-packages/sklearn/base.py:464: UserWarning: X does not have valid feature names, but RandomForestRegressor was fitted with feature names\n",
      "  warnings.warn(\n",
      "/Users/heoyujeong/Desktop/summer_paper/venv/lib/python3.9/site-packages/sklearn/base.py:464: UserWarning: X does not have valid feature names, but RandomForestRegressor was fitted with feature names\n",
      "  warnings.warn(\n"
     ]
    },
    {
     "name": "stdout",
     "output_type": "stream",
     "text": [
      "Image: img_2.png\n",
      "Original Brightness: 17.696762084960938\n",
      "Predicted Brightness: 62.01449089050293\n",
      "-----\n",
      "Image: img_2.png\n",
      "Original Contrast: 7.25561700776489\n",
      "Predicted Contrast: 71.44463010679019\n",
      "-----\n"
     ]
    },
    {
     "name": "stderr",
     "output_type": "stream",
     "text": [
      "/Users/heoyujeong/Desktop/summer_paper/venv/lib/python3.9/site-packages/sklearn/base.py:464: UserWarning: X does not have valid feature names, but RandomForestRegressor was fitted with feature names\n",
      "  warnings.warn(\n",
      "/Users/heoyujeong/Desktop/summer_paper/venv/lib/python3.9/site-packages/sklearn/base.py:464: UserWarning: X does not have valid feature names, but RandomForestRegressor was fitted with feature names\n",
      "  warnings.warn(\n",
      "/Users/heoyujeong/Desktop/summer_paper/venv/lib/python3.9/site-packages/sklearn/base.py:464: UserWarning: X does not have valid feature names, but RandomForestRegressor was fitted with feature names\n",
      "  warnings.warn(\n",
      "/Users/heoyujeong/Desktop/summer_paper/venv/lib/python3.9/site-packages/sklearn/base.py:464: UserWarning: X does not have valid feature names, but RandomForestRegressor was fitted with feature names\n",
      "  warnings.warn(\n",
      "/Users/heoyujeong/Desktop/summer_paper/venv/lib/python3.9/site-packages/sklearn/base.py:464: UserWarning: X does not have valid feature names, but RandomForestRegressor was fitted with feature names\n",
      "  warnings.warn(\n",
      "/Users/heoyujeong/Desktop/summer_paper/venv/lib/python3.9/site-packages/sklearn/base.py:464: UserWarning: X does not have valid feature names, but RandomForestRegressor was fitted with feature names\n",
      "  warnings.warn(\n",
      "/Users/heoyujeong/Desktop/summer_paper/venv/lib/python3.9/site-packages/sklearn/base.py:464: UserWarning: X does not have valid feature names, but RandomForestRegressor was fitted with feature names\n",
      "  warnings.warn(\n"
     ]
    },
    {
     "name": "stdout",
     "output_type": "stream",
     "text": [
      "Image: img_3.png\n",
      "Original Brightness: 15.62680435180664\n",
      "Predicted Brightness: 62.01449089050293\n",
      "-----\n",
      "Image: img_3.png\n",
      "Original Contrast: 4.23765696751538\n",
      "Predicted Contrast: 71.44463010679019\n",
      "-----\n"
     ]
    },
    {
     "name": "stderr",
     "output_type": "stream",
     "text": [
      "/Users/heoyujeong/Desktop/summer_paper/venv/lib/python3.9/site-packages/sklearn/base.py:464: UserWarning: X does not have valid feature names, but RandomForestRegressor was fitted with feature names\n",
      "  warnings.warn(\n",
      "/Users/heoyujeong/Desktop/summer_paper/venv/lib/python3.9/site-packages/sklearn/base.py:464: UserWarning: X does not have valid feature names, but RandomForestRegressor was fitted with feature names\n",
      "  warnings.warn(\n",
      "/Users/heoyujeong/Desktop/summer_paper/venv/lib/python3.9/site-packages/sklearn/base.py:464: UserWarning: X does not have valid feature names, but RandomForestRegressor was fitted with feature names\n",
      "  warnings.warn(\n",
      "/Users/heoyujeong/Desktop/summer_paper/venv/lib/python3.9/site-packages/sklearn/base.py:464: UserWarning: X does not have valid feature names, but RandomForestRegressor was fitted with feature names\n",
      "  warnings.warn(\n",
      "/Users/heoyujeong/Desktop/summer_paper/venv/lib/python3.9/site-packages/sklearn/base.py:464: UserWarning: X does not have valid feature names, but RandomForestRegressor was fitted with feature names\n",
      "  warnings.warn(\n",
      "/Users/heoyujeong/Desktop/summer_paper/venv/lib/python3.9/site-packages/sklearn/base.py:464: UserWarning: X does not have valid feature names, but RandomForestRegressor was fitted with feature names\n",
      "  warnings.warn(\n",
      "/Users/heoyujeong/Desktop/summer_paper/venv/lib/python3.9/site-packages/sklearn/base.py:464: UserWarning: X does not have valid feature names, but RandomForestRegressor was fitted with feature names\n",
      "  warnings.warn(\n",
      "/Users/heoyujeong/Desktop/summer_paper/venv/lib/python3.9/site-packages/sklearn/base.py:464: UserWarning: X does not have valid feature names, but RandomForestRegressor was fitted with feature names\n",
      "  warnings.warn(\n",
      "/Users/heoyujeong/Desktop/summer_paper/venv/lib/python3.9/site-packages/sklearn/base.py:464: UserWarning: X does not have valid feature names, but RandomForestRegressor was fitted with feature names\n",
      "  warnings.warn(\n"
     ]
    },
    {
     "name": "stdout",
     "output_type": "stream",
     "text": [
      "Image: img_4.png\n",
      "Original Brightness: 17.06995391845703\n",
      "Predicted Brightness: 62.01449089050293\n",
      "-----\n",
      "Image: img_4.png\n",
      "Original Contrast: 6.478817738495811\n",
      "Predicted Contrast: 71.44463010679019\n",
      "-----\n"
     ]
    },
    {
     "name": "stderr",
     "output_type": "stream",
     "text": [
      "/Users/heoyujeong/Desktop/summer_paper/venv/lib/python3.9/site-packages/sklearn/base.py:464: UserWarning: X does not have valid feature names, but RandomForestRegressor was fitted with feature names\n",
      "  warnings.warn(\n",
      "/Users/heoyujeong/Desktop/summer_paper/venv/lib/python3.9/site-packages/sklearn/base.py:464: UserWarning: X does not have valid feature names, but RandomForestRegressor was fitted with feature names\n",
      "  warnings.warn(\n",
      "/Users/heoyujeong/Desktop/summer_paper/venv/lib/python3.9/site-packages/sklearn/base.py:464: UserWarning: X does not have valid feature names, but RandomForestRegressor was fitted with feature names\n",
      "  warnings.warn(\n",
      "/Users/heoyujeong/Desktop/summer_paper/venv/lib/python3.9/site-packages/sklearn/base.py:464: UserWarning: X does not have valid feature names, but RandomForestRegressor was fitted with feature names\n",
      "  warnings.warn(\n",
      "/Users/heoyujeong/Desktop/summer_paper/venv/lib/python3.9/site-packages/sklearn/base.py:464: UserWarning: X does not have valid feature names, but RandomForestRegressor was fitted with feature names\n",
      "  warnings.warn(\n",
      "/Users/heoyujeong/Desktop/summer_paper/venv/lib/python3.9/site-packages/sklearn/base.py:464: UserWarning: X does not have valid feature names, but RandomForestRegressor was fitted with feature names\n",
      "  warnings.warn(\n",
      "/Users/heoyujeong/Desktop/summer_paper/venv/lib/python3.9/site-packages/sklearn/base.py:464: UserWarning: X does not have valid feature names, but RandomForestRegressor was fitted with feature names\n",
      "  warnings.warn(\n",
      "/Users/heoyujeong/Desktop/summer_paper/venv/lib/python3.9/site-packages/sklearn/base.py:464: UserWarning: X does not have valid feature names, but RandomForestRegressor was fitted with feature names\n",
      "  warnings.warn(\n",
      "/Users/heoyujeong/Desktop/summer_paper/venv/lib/python3.9/site-packages/sklearn/base.py:464: UserWarning: X does not have valid feature names, but RandomForestRegressor was fitted with feature names\n",
      "  warnings.warn(\n",
      "/Users/heoyujeong/Desktop/summer_paper/venv/lib/python3.9/site-packages/sklearn/base.py:464: UserWarning: X does not have valid feature names, but RandomForestRegressor was fitted with feature names\n",
      "  warnings.warn(\n",
      "/Users/heoyujeong/Desktop/summer_paper/venv/lib/python3.9/site-packages/sklearn/base.py:464: UserWarning: X does not have valid feature names, but RandomForestRegressor was fitted with feature names\n",
      "  warnings.warn(\n"
     ]
    },
    {
     "name": "stdout",
     "output_type": "stream",
     "text": [
      "Image: img_bright.png\n",
      "Original Brightness: 122.11962890625\n",
      "Predicted Brightness: 68.39441846211751\n",
      "-----\n",
      "Image: img_bright.png\n",
      "Original Contrast: 68.87802844130992\n",
      "Predicted Contrast: 77.52468132433118\n",
      "-----\n"
     ]
    },
    {
     "name": "stderr",
     "output_type": "stream",
     "text": [
      "/Users/heoyujeong/Desktop/summer_paper/venv/lib/python3.9/site-packages/sklearn/base.py:464: UserWarning: X does not have valid feature names, but RandomForestRegressor was fitted with feature names\n",
      "  warnings.warn(\n",
      "/Users/heoyujeong/Desktop/summer_paper/venv/lib/python3.9/site-packages/sklearn/base.py:464: UserWarning: X does not have valid feature names, but RandomForestRegressor was fitted with feature names\n",
      "  warnings.warn(\n",
      "/Users/heoyujeong/Desktop/summer_paper/venv/lib/python3.9/site-packages/sklearn/base.py:464: UserWarning: X does not have valid feature names, but RandomForestRegressor was fitted with feature names\n",
      "  warnings.warn(\n",
      "/Users/heoyujeong/Desktop/summer_paper/venv/lib/python3.9/site-packages/sklearn/base.py:464: UserWarning: X does not have valid feature names, but RandomForestRegressor was fitted with feature names\n",
      "  warnings.warn(\n",
      "/Users/heoyujeong/Desktop/summer_paper/venv/lib/python3.9/site-packages/sklearn/base.py:464: UserWarning: X does not have valid feature names, but RandomForestRegressor was fitted with feature names\n",
      "  warnings.warn(\n",
      "/Users/heoyujeong/Desktop/summer_paper/venv/lib/python3.9/site-packages/sklearn/base.py:464: UserWarning: X does not have valid feature names, but RandomForestRegressor was fitted with feature names\n",
      "  warnings.warn(\n",
      "/Users/heoyujeong/Desktop/summer_paper/venv/lib/python3.9/site-packages/sklearn/base.py:464: UserWarning: X does not have valid feature names, but RandomForestRegressor was fitted with feature names\n",
      "  warnings.warn(\n",
      "/Users/heoyujeong/Desktop/summer_paper/venv/lib/python3.9/site-packages/sklearn/base.py:464: UserWarning: X does not have valid feature names, but RandomForestRegressor was fitted with feature names\n",
      "  warnings.warn(\n",
      "/Users/heoyujeong/Desktop/summer_paper/venv/lib/python3.9/site-packages/sklearn/base.py:464: UserWarning: X does not have valid feature names, but RandomForestRegressor was fitted with feature names\n",
      "  warnings.warn(\n",
      "/Users/heoyujeong/Desktop/summer_paper/venv/lib/python3.9/site-packages/sklearn/base.py:464: UserWarning: X does not have valid feature names, but RandomForestRegressor was fitted with feature names\n",
      "  warnings.warn(\n",
      "/Users/heoyujeong/Desktop/summer_paper/venv/lib/python3.9/site-packages/sklearn/base.py:464: UserWarning: X does not have valid feature names, but RandomForestRegressor was fitted with feature names\n",
      "  warnings.warn(\n",
      "/Users/heoyujeong/Desktop/summer_paper/venv/lib/python3.9/site-packages/sklearn/base.py:464: UserWarning: X does not have valid feature names, but RandomForestRegressor was fitted with feature names\n",
      "  warnings.warn(\n"
     ]
    }
   ],
   "source": [
    "\n",
    "if __name__ == \"__main__\":\n",
    "    main()\n"
   ]
  },
  {
   "cell_type": "code",
   "execution_count": 31,
   "metadata": {},
   "outputs": [
    {
     "data": {
      "image/png": "[encoded data removed]",
      "text/plain": [
       "<Figure size 640x480 with 1 Axes>"
      ]
     },
     "metadata": {},
     "output_type": "display_data"
    }
   ],
   "source": [
    "import cv2\n",
    "from matplotlib import pyplot as plt\n",
    "\n",
    "first_img = './png_test/img_1.png'\n",
    "src = cv2.imread(first_img, cv2.IMREAD_GRAYSCALE)\n",
    "hist = cv2.calcHist([src], [0], None, [256], [0, 255])\n",
    "plt.subplot(2,1,2),plt.plot(hist)\n",
    "plt.xlim([0, 255])\n",
    "plt.show()"
   ]
  },
  {
   "cell_type": "code",
   "execution_count": 32,
   "metadata": {},
   "outputs": [
    {
     "data": {
      "image/png": "[encoded data removed]",
      "text/plain": [
       "<Figure size 640x480 with 1 Axes>"
      ]
     },
     "metadata": {},
     "output_type": "display_data"
    }
   ],
   "source": [
    "import cv2\n",
    "from matplotlib import pyplot as plt\n",
    "\n",
    "first_img = './processed_images/img_1.png'\n",
    "src = cv2.imread(first_img, cv2.IMREAD_GRAYSCALE)\n",
    "hist = cv2.calcHist([src], [0], None, [256], [0, 255])\n",
    "plt.subplot(2,1,2),plt.plot(hist)\n",
    "plt.xlim([0, 255])\n",
    "plt.show()"
   ]
  },
  {
   "cell_type": "code",
   "execution_count": 40,
   "metadata": {},
   "outputs": [
    {
     "data": {
      "text/plain": [
       "True"
      ]
     },
     "execution_count": 40,
     "metadata": {},
     "output_type": "execute_result"
    }
   ],
   "source": [
    "# test 위해서 이미지 키움\n",
    "\n",
    "img_path = './png_test/img_bright.png'\n",
    "src = cv2.imread(img_path, cv2.IMREAD_GRAYSCALE)\n",
    "dst = cv2.resize(src,(512,512))\n",
    "\n",
    "cv2.imwrite(img_path, dst)"
   ]
  },
  {
   "cell_type": "code",
   "execution_count": null,
   "metadata": {},
   "outputs": [],
   "source": []
  }
 ],
 "metadata": {
  "kernelspec": {
   "display_name": "venv",
   "language": "python",
   "name": "python3"
  },
  "language_info": {
   "codemirror_mode": {
    "name": "ipython",
    "version": 3
   },
   "file_extension": ".py",
   "mimetype": "text/x-python",
   "name": "python",
   "nbconvert_exporter": "python",
   "pygments_lexer": "ipython3",
   "version": "3.9.17"
  },
  "orig_nbformat": 4
 },
 "nbformat": 4,
 "nbformat_minor": 2
}
